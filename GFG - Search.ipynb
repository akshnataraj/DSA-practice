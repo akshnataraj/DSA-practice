{
 "cells": [
  {
   "cell_type": "markdown",
   "metadata": {},
   "source": [
    "## Search Algorithms"
   ]
  },
  {
   "cell_type": "markdown",
   "metadata": {},
   "source": [
    "### Linear Search\n",
    "\n",
    "Problem: Given an array arr[] of n elements, write a function to search a given element x in arr[].\n",
    "\n",
    "Input : arr[] = {10, 20, 80, 30, 60, 50, \n",
    "                     110, 100, 130, 170}\n",
    "          x = 110;\n",
    "Output : 6\n",
    "Element x is present at index 6\n",
    "\n",
    "Input : arr[] = {10, 20, 80, 30, 60, 50, \n",
    "                     110, 100, 130, 170}\n",
    "           x = 175;\n",
    "Output : -1\n",
    "Element x is not present in arr[]."
   ]
  },
  {
   "cell_type": "code",
   "execution_count": 14,
   "metadata": {},
   "outputs": [
    {
     "name": "stdout",
     "output_type": "stream",
     "text": [
      "Output:  80  Element x is  is present at index  3\n"
     ]
    }
   ],
   "source": [
    "arr = [10, 20, 80, 30, 60, 50, 110, 100, 130, 170]\n",
    "x = 80\n",
    "flag = 0\n",
    "def lin_search(arr,x):\n",
    "    for i in range(len(arr)):\n",
    "        if arr[i] == x:\n",
    "            return i\n",
    "    return -1\n",
    "\n",
    "elem = lin_search(arr,x)\n",
    "if elem == -1:\n",
    "    print('Output -1 Element x is not in arr')\n",
    "else:\n",
    "    print('Output: ',x,' Element x is  is present at index ',elem+1)"
   ]
  },
  {
   "cell_type": "markdown",
   "metadata": {},
   "source": [
    "Side Notes:-\n",
    "    \n",
    "The time complexity of above algorithm is O(n).\n",
    "\n",
    "Linear search is rarely used practically because other search algorithms such as the binary search algorithm and hash tables allow significantly faster searching comparison to Linear search."
   ]
  },
  {
   "cell_type": "code",
   "execution_count": 18,
   "metadata": {},
   "outputs": [
    {
     "name": "stdout",
     "output_type": "stream",
     "text": [
      "Initial string abc\n",
      "i:  0  j: 0\n",
      "i:  1  j: 1\n",
      "i:  2  j: 2\n",
      "After recursion:\n",
      "i:  2  j: 2\n",
      "After recursion:\n",
      "i:  1  j: 1\n",
      "i:  1  j: 2\n",
      "i:  2  j: 2\n",
      "After recursion:\n",
      "i:  2  j: 2\n",
      "After recursion:\n",
      "i:  1  j: 2\n",
      "After recursion:\n",
      "i:  0  j: 0\n",
      "i:  0  j: 1\n",
      "i:  1  j: 1\n",
      "i:  2  j: 2\n",
      "After recursion:\n",
      "i:  2  j: 2\n",
      "After recursion:\n",
      "i:  1  j: 1\n",
      "i:  1  j: 2\n",
      "i:  2  j: 2\n",
      "After recursion:\n",
      "i:  2  j: 2\n",
      "After recursion:\n",
      "i:  1  j: 2\n",
      "After recursion:\n",
      "i:  0  j: 1\n",
      "i:  0  j: 2\n",
      "i:  1  j: 1\n",
      "i:  2  j: 2\n",
      "After recursion:\n",
      "i:  2  j: 2\n",
      "After recursion:\n",
      "i:  1  j: 1\n",
      "i:  1  j: 2\n",
      "i:  2  j: 2\n",
      "After recursion:\n",
      "i:  2  j: 2\n",
      "After recursion:\n",
      "i:  1  j: 2\n",
      "After recursion:\n",
      "i:  0  j: 2\n",
      "Resultant permutations ['abc', 'acb', 'bac', 'bca', 'cba', 'cab']\n"
     ]
    }
   ],
   "source": [
    "# Initialising string \n",
    "ini_str = \"abc\"\n",
    "  \n",
    "# Printing initial string \n",
    "print(\"Initial string\", ini_str) \n",
    "  \n",
    "# Finding all permuatation \n",
    "result = [] \n",
    "  \n",
    "def permute(data, i, length):  \n",
    "    if i == length:  \n",
    "        result.append(''.join(data) ) \n",
    "    else:  \n",
    "        for j in range(i, length):  \n",
    "            # swap \n",
    "            data[i], data[j] = data[j], data[i]  \n",
    "            print('i: ',i,' j:',j)\n",
    "            permute(data, i + 1, length) \n",
    "            print('After recursion:')\n",
    "            print('i: ',i,' j:',j)\n",
    "            data[i], data[j] = data[j], data[i]   \n",
    "permute(list(ini_str), 0, len(ini_str)) \n",
    "  \n",
    "# Printing result \n",
    "print(\"Resultant permutations\", str(result)) \n"
   ]
  },
  {
   "cell_type": "markdown",
   "metadata": {},
   "source": [
    "## Sentinel Search"
   ]
  },
  {
   "cell_type": "code",
   "execution_count": null,
   "metadata": {},
   "outputs": [],
   "source": []
  },
  {
   "cell_type": "code",
   "execution_count": 1,
   "metadata": {},
   "outputs": [
    {
     "name": "stdout",
     "output_type": "stream",
     "text": [
      "180 is present at index 2\n"
     ]
    }
   ],
   "source": [
    "def sentinelSearch(arr, n, x) :  \n",
    "  \n",
    "    # Last element of the array  \n",
    "    last = arr[n - 1]  \n",
    "  \n",
    "    # Element to be searched is  \n",
    "    # placed at the last index  \n",
    "    arr[n - 1] = x  \n",
    "    i = 0\n",
    "  \n",
    "    while (arr[i] != x) :  \n",
    "        i += 1\n",
    "  \n",
    "    # Put the last element back  \n",
    "    arr[n - 1] = last  \n",
    "  \n",
    "    if ((i < n - 1) or (x == arr[n - 1])) :  \n",
    "        print(x, \"is present at index\", i)  \n",
    "    else : \n",
    "        print(\"Not found\")  \n",
    "  \n",
    "arr = [ 10, 20, 180, 30,  \n",
    "        60, 50, 110, 100, 70 ]  \n",
    "n = len(arr)  \n",
    "x = 180\n",
    "  \n",
    "sentinelSearch(arr, n, x)"
   ]
  },
  {
   "cell_type": "markdown",
   "metadata": {},
   "source": [
    "## Best-First-Search"
   ]
  },
  {
   "cell_type": "code",
   "execution_count": null,
   "metadata": {},
   "outputs": [],
   "source": [
    "Best-First-Search(Graph g, Node start)\n",
    "    1) Create an empty PriorityQueue\n",
    "       PriorityQueue pq;\n",
    "    2) Insert \"start\" in pq.\n",
    "       pq.insert(start)\n",
    "    3) Until PriorityQueue is empty\n",
    "          u = PriorityQueue.DeleteMin\n",
    "          If u is the goal\n",
    "             Exit\n",
    "          Else\n",
    "             Foreach neighbor v of u\n",
    "                If v \"Unvisited\"\n",
    "                    Mark v \"Visited\"                    \n",
    "                    pq.insert(v)\n",
    "             Mark u \"Examined\"                    \n",
    "End procedure"
   ]
  },
  {
   "cell_type": "markdown",
   "metadata": {},
   "source": [
    "Jump Search"
   ]
  },
  {
   "cell_type": "markdown",
   "metadata": {},
   "source": [
    "Kind of a mid way between Binary Search and Linear Search\n",
    "\n",
    "Given an array a = [1,4,5,6,7,14,16,18,19,20] (a should be a sorted array)\n",
    "decide block size m = sqrt(n) ( where n is the size of array )\n",
    "\n",
    "GFG says:\n",
    "What is the optimal block size to be skipped?\n",
    "In the worst case, we have to do n/m jumps and if the last checked value is greater than the element to be searched for, we perform m-1 comparisons more for linear search. Therefore the total number of comparisons in the worst case will be ((n/m) + m-1). The value of the function ((n/m) + m-1) will be minimum when m = √n. Therefore, the best step size is m = √n.\n"
   ]
  },
  {
   "cell_type": "code",
   "execution_count": 34,
   "metadata": {},
   "outputs": [
    {
     "name": "stdout",
     "output_type": "stream",
     "text": [
      "Element found at:  5\n"
     ]
    }
   ],
   "source": [
    "import numpy as np\n",
    "def jumpSearch(a,m,x):\n",
    "    for i in range(0,len(a),m):\n",
    "        if a[i]==x:\n",
    "            return i\n",
    "        elif a[i]>x:\n",
    "            high = i\n",
    "            break\n",
    "    \n",
    "    for j in range(high,high-m,-1):\n",
    "        if a[j]==x:\n",
    "            return j\n",
    "    \n",
    "a = [1,4,5,6,7,14,16,18,19,20]\n",
    "n = len(a)\n",
    "x = 14\n",
    "m = int(np.ceil(np.sqrt(n)))\n",
    "idx = jumpSearch(a,m,x)\n",
    "print('Element found at: ',idx)"
   ]
  },
  {
   "cell_type": "code",
   "execution_count": 12,
   "metadata": {},
   "outputs": [
    {
     "data": {
      "text/plain": [
       "(4, 14)"
      ]
     },
     "execution_count": 12,
     "metadata": {},
     "output_type": "execute_result"
    }
   ],
   "source": [
    "m,x"
   ]
  },
  {
   "cell_type": "code",
   "execution_count": null,
   "metadata": {},
   "outputs": [],
   "source": [
    "import numpy as np\n",
    "def jumpSearch(a,m,x):\n",
    "    for i in range(0,len(a),m):\n",
    "        if a[i]==x:\n",
    "            return i\n",
    "        elif a[i]>x:\n",
    "            high = i\n",
    "            break\n",
    "    \n",
    "    for j in range(high,high-m,-1):\n",
    "        if a[j]==x:\n",
    "            return j\n",
    "\n",
    "a = [5, 6, 7, 8, 9, 10, 1, 2, 3]\n",
    "n = len(a)\n",
    "x = 14\n",
    "m = int(np.ceil(np.sqrt(n)))\n",
    "idx = jumpSearch(a,m,x)\n",
    "print('Element found at: ',idx)\n"
   ]
  },
  {
   "cell_type": "code",
   "execution_count": 44,
   "metadata": {},
   "outputs": [],
   "source": [
    "a = [5, 6, 7, 8, 9, 10, 1, 2, 3]\n",
    "idx = np.argmin(a)"
   ]
  },
  {
   "cell_type": "code",
   "execution_count": 43,
   "metadata": {},
   "outputs": [],
   "source": [
    "for i in range(np.argmin(a),-1):\n",
    "    print(a[i])"
   ]
  },
  {
   "cell_type": "code",
   "execution_count": 53,
   "metadata": {},
   "outputs": [
    {
     "data": {
      "text/plain": [
       "[]"
      ]
     },
     "execution_count": 53,
     "metadata": {},
     "output_type": "execute_result"
    }
   ],
   "source": [
    "a[-idx:]"
   ]
  },
  {
   "cell_type": "code",
   "execution_count": 46,
   "metadata": {},
   "outputs": [
    {
     "data": {
      "text/plain": [
       "6"
      ]
     },
     "execution_count": 46,
     "metadata": {},
     "output_type": "execute_result"
    }
   ],
   "source": [
    "idx"
   ]
  },
  {
   "cell_type": "code",
   "execution_count": 48,
   "metadata": {},
   "outputs": [
    {
     "data": {
      "text/plain": [
       "[5, 6, 7]"
      ]
     },
     "execution_count": 48,
     "metadata": {},
     "output_type": "execute_result"
    }
   ],
   "source": [
    "a[:-idx]"
   ]
  },
  {
   "cell_type": "markdown",
   "metadata": {},
   "source": [
    "# Find the missing number"
   ]
  },
  {
   "cell_type": "code",
   "execution_count": 3,
   "metadata": {},
   "outputs": [
    {
     "data": {
      "text/plain": [
       "3"
      ]
     },
     "execution_count": 3,
     "metadata": {},
     "output_type": "execute_result"
    }
   ],
   "source": [
    "def missingNumber(a):\n",
    "    for i in range(len(a)):\n",
    "        if a[i+1] != a[i]+1:\n",
    "            return a[i]+1\n",
    "    \n",
    "a = [1, 2, 4, 6, 3, 7, 8]\n",
    "missingNumber(a)"
   ]
  },
  {
   "cell_type": "code",
   "execution_count": 11,
   "metadata": {},
   "outputs": [
    {
     "name": "stdout",
     "output_type": "stream",
     "text": [
      "3 3\n",
      "4 7\n",
      "6 1\n",
      "1 0\n",
      "2 2\n",
      "The missing element is 5\n"
     ]
    }
   ],
   "source": [
    "# Find missing number in a limited range list [1..n+1]\n",
    "def findMissingElement(A, n):\n",
    "\n",
    "    xor = 0\n",
    "\n",
    "    # take xor of all list elements\n",
    "    for i in A:\n",
    "        xor ^= i\n",
    "        print(i, xor)\n",
    "\n",
    "    \n",
    "\n",
    "    # take xor of numbers from 1 to n+1\n",
    "    for i in range(1, n + 2):\n",
    "        xor ^= i\n",
    "\n",
    "# same elements will cancel out each other as a ^ a = 0\n",
    "# Also 0 ^ 0 = 0 and a ^ 0 = a\n",
    "\n",
    "# xor will contain the missing number\n",
    "    return xor\n",
    "\n",
    "# input list contains n numbers between [1 to n + 1]\n",
    "# with one number missing and no duplicates\n",
    "A = [3,4,6,1,2]\n",
    "n = len(A)\n",
    "\n",
    "print(\"The missing element is\", findMissingElement(A, n))\n"
   ]
  },
  {
   "cell_type": "code",
   "execution_count": 25,
   "metadata": {},
   "outputs": [
    {
     "name": "stdout",
     "output_type": "stream",
     "text": [
      "Indexed at idx:  1\n"
     ]
    }
   ],
   "source": [
    "def searchArray(a,low,high,x):\n",
    "    mid = int((low + high)/2)\n",
    "    if a[mid]==x:\n",
    "        return mid\n",
    "    if low>high:\n",
    "        return -1\n",
    "    \n",
    "    if a[low]<=a[mid]: #left array is sorted\n",
    "        if a[low]>=x and a[mid]<=x:\n",
    "            return searchArray(a,low,mid-1,x)\n",
    "        else:\n",
    "            return searchArray(a,mid+1,high,x)\n",
    "    else: #right array is sorted\n",
    "        print(a[mid],a[high])\n",
    "        if a[mid]<=x and a[high]>=x:\n",
    "            return searchArray(a,mid+1,high,x)\n",
    "        else:\n",
    "            return searchArray(a,low,mid-1,x)\n",
    "\n",
    "a = [4,5,1,2,3]\n",
    "x = 5\n",
    "low = 0\n",
    "high = len(a)-1\n",
    "idx = searchArray(a,low,high,x)\n",
    "print('Indexed at idx: ',idx)"
   ]
  },
  {
   "cell_type": "code",
   "execution_count": null,
   "metadata": {},
   "outputs": [],
   "source": []
  }
 ],
 "metadata": {
  "kernelspec": {
   "display_name": "Python 3",
   "language": "python",
   "name": "python3"
  },
  "language_info": {
   "codemirror_mode": {
    "name": "ipython",
    "version": 3
   },
   "file_extension": ".py",
   "mimetype": "text/x-python",
   "name": "python",
   "nbconvert_exporter": "python",
   "pygments_lexer": "ipython3",
   "version": "3.6.4"
  }
 },
 "nbformat": 4,
 "nbformat_minor": 2
}
