{
 "cells": [
  {
   "cell_type": "markdown",
   "metadata": {},
   "source": [
    "## Search Algorithms"
   ]
  },
  {
   "cell_type": "markdown",
   "metadata": {},
   "source": [
    "### Linear Search\n",
    "\n",
    "Problem: Given an array arr[] of n elements, write a function to search a given element x in arr[].\n",
    "\n",
    "Input : arr[] = {10, 20, 80, 30, 60, 50, \n",
    "                     110, 100, 130, 170}\n",
    "          x = 110;\n",
    "Output : 6\n",
    "Element x is present at index 6\n",
    "\n",
    "Input : arr[] = {10, 20, 80, 30, 60, 50, \n",
    "                     110, 100, 130, 170}\n",
    "           x = 175;\n",
    "Output : -1\n",
    "Element x is not present in arr[]."
   ]
  },
  {
   "cell_type": "code",
   "execution_count": 14,
   "metadata": {},
   "outputs": [
    {
     "name": "stdout",
     "output_type": "stream",
     "text": [
      "Output:  80  Element x is  is present at index  3\n"
     ]
    }
   ],
   "source": [
    "arr = [10, 20, 80, 30, 60, 50, 110, 100, 130, 170]\n",
    "x = 80\n",
    "flag = 0\n",
    "def lin_search(arr,x):\n",
    "    for i in range(len(arr)):\n",
    "        if arr[i] == x:\n",
    "            return i\n",
    "    return -1\n",
    "\n",
    "elem = lin_search(arr,x)\n",
    "if elem == -1:\n",
    "    print('Output -1 Element x is not in arr')\n",
    "else:\n",
    "    print('Output: ',x,' Element x is  is present at index ',elem+1)"
   ]
  },
  {
   "cell_type": "markdown",
   "metadata": {},
   "source": [
    "Side Notes:-\n",
    "    \n",
    "The time complexity of above algorithm is O(n).\n",
    "\n",
    "Linear search is rarely used practically because other search algorithms such as the binary search algorithm and hash tables allow significantly faster searching comparison to Linear search."
   ]
  },
  {
   "cell_type": "code",
   "execution_count": null,
   "metadata": {},
   "outputs": [],
   "source": []
  }
 ],
 "metadata": {
  "kernelspec": {
   "display_name": "Python 3",
   "language": "python",
   "name": "python3"
  },
  "language_info": {
   "codemirror_mode": {
    "name": "ipython",
    "version": 3
   },
   "file_extension": ".py",
   "mimetype": "text/x-python",
   "name": "python",
   "nbconvert_exporter": "python",
   "pygments_lexer": "ipython3",
   "version": "3.6.4"
  }
 },
 "nbformat": 4,
 "nbformat_minor": 2
}
