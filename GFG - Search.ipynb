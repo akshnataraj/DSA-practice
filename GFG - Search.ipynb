{
 "cells": [
  {
   "cell_type": "markdown",
   "metadata": {},
   "source": [
    "## Search Algorithms"
   ]
  },
  {
   "cell_type": "markdown",
   "metadata": {},
   "source": [
    "### Linear Search\n",
    "\n",
    "Problem: Given an array arr[] of n elements, write a function to search a given element x in arr[].\n",
    "\n",
    "Input : arr[] = {10, 20, 80, 30, 60, 50, \n",
    "                     110, 100, 130, 170}\n",
    "          x = 110;\n",
    "Output : 6\n",
    "Element x is present at index 6\n",
    "\n",
    "Input : arr[] = {10, 20, 80, 30, 60, 50, \n",
    "                     110, 100, 130, 170}\n",
    "           x = 175;\n",
    "Output : -1\n",
    "Element x is not present in arr[]."
   ]
  },
  {
   "cell_type": "code",
   "execution_count": 14,
   "metadata": {},
   "outputs": [
    {
     "name": "stdout",
     "output_type": "stream",
     "text": [
      "Output:  80  Element x is  is present at index  3\n"
     ]
    }
   ],
   "source": [
    "arr = [10, 20, 80, 30, 60, 50, 110, 100, 130, 170]\n",
    "x = 80\n",
    "flag = 0\n",
    "def lin_search(arr,x):\n",
    "    for i in range(len(arr)):\n",
    "        if arr[i] == x:\n",
    "            return i\n",
    "    return -1\n",
    "\n",
    "elem = lin_search(arr,x)\n",
    "if elem == -1:\n",
    "    print('Output -1 Element x is not in arr')\n",
    "else:\n",
    "    print('Output: ',x,' Element x is  is present at index ',elem+1)"
   ]
  },
  {
   "cell_type": "markdown",
   "metadata": {},
   "source": [
    "Side Notes:-\n",
    "    \n",
    "The time complexity of above algorithm is O(n).\n",
    "\n",
    "Linear search is rarely used practically because other search algorithms such as the binary search algorithm and hash tables allow significantly faster searching comparison to Linear search."
   ]
  },
  {
   "cell_type": "code",
   "execution_count": 18,
   "metadata": {},
   "outputs": [
    {
     "name": "stdout",
     "output_type": "stream",
     "text": [
      "Initial string abc\n",
      "i:  0  j: 0\n",
      "i:  1  j: 1\n",
      "i:  2  j: 2\n",
      "After recursion:\n",
      "i:  2  j: 2\n",
      "After recursion:\n",
      "i:  1  j: 1\n",
      "i:  1  j: 2\n",
      "i:  2  j: 2\n",
      "After recursion:\n",
      "i:  2  j: 2\n",
      "After recursion:\n",
      "i:  1  j: 2\n",
      "After recursion:\n",
      "i:  0  j: 0\n",
      "i:  0  j: 1\n",
      "i:  1  j: 1\n",
      "i:  2  j: 2\n",
      "After recursion:\n",
      "i:  2  j: 2\n",
      "After recursion:\n",
      "i:  1  j: 1\n",
      "i:  1  j: 2\n",
      "i:  2  j: 2\n",
      "After recursion:\n",
      "i:  2  j: 2\n",
      "After recursion:\n",
      "i:  1  j: 2\n",
      "After recursion:\n",
      "i:  0  j: 1\n",
      "i:  0  j: 2\n",
      "i:  1  j: 1\n",
      "i:  2  j: 2\n",
      "After recursion:\n",
      "i:  2  j: 2\n",
      "After recursion:\n",
      "i:  1  j: 1\n",
      "i:  1  j: 2\n",
      "i:  2  j: 2\n",
      "After recursion:\n",
      "i:  2  j: 2\n",
      "After recursion:\n",
      "i:  1  j: 2\n",
      "After recursion:\n",
      "i:  0  j: 2\n",
      "Resultant permutations ['abc', 'acb', 'bac', 'bca', 'cba', 'cab']\n"
     ]
    }
   ],
   "source": [
    "# Initialising string \n",
    "ini_str = \"abc\"\n",
    "  \n",
    "# Printing initial string \n",
    "print(\"Initial string\", ini_str) \n",
    "  \n",
    "# Finding all permuatation \n",
    "result = [] \n",
    "  \n",
    "def permute(data, i, length):  \n",
    "    if i == length:  \n",
    "        result.append(''.join(data) ) \n",
    "    else:  \n",
    "        for j in range(i, length):  \n",
    "            # swap \n",
    "            data[i], data[j] = data[j], data[i]  \n",
    "            print('i: ',i,' j:',j)\n",
    "            permute(data, i + 1, length) \n",
    "            print('After recursion:')\n",
    "            print('i: ',i,' j:',j)\n",
    "            data[i], data[j] = data[j], data[i]   \n",
    "permute(list(ini_str), 0, len(ini_str)) \n",
    "  \n",
    "# Printing result \n",
    "print(\"Resultant permutations\", str(result)) \n"
   ]
  },
  {
   "cell_type": "markdown",
   "metadata": {},
   "source": [
    "## Sentinel Search"
   ]
  },
  {
   "cell_type": "code",
   "execution_count": null,
   "metadata": {},
   "outputs": [],
   "source": []
  },
  {
   "cell_type": "code",
   "execution_count": 1,
   "metadata": {},
   "outputs": [
    {
     "name": "stdout",
     "output_type": "stream",
     "text": [
      "180 is present at index 2\n"
     ]
    }
   ],
   "source": [
    "def sentinelSearch(arr, n, x) :  \n",
    "  \n",
    "    # Last element of the array  \n",
    "    last = arr[n - 1]  \n",
    "  \n",
    "    # Element to be searched is  \n",
    "    # placed at the last index  \n",
    "    arr[n - 1] = x  \n",
    "    i = 0\n",
    "  \n",
    "    while (arr[i] != x) :  \n",
    "        i += 1\n",
    "  \n",
    "    # Put the last element back  \n",
    "    arr[n - 1] = last  \n",
    "  \n",
    "    if ((i < n - 1) or (x == arr[n - 1])) :  \n",
    "        print(x, \"is present at index\", i)  \n",
    "    else : \n",
    "        print(\"Not found\")  \n",
    "  \n",
    "arr = [ 10, 20, 180, 30,  \n",
    "        60, 50, 110, 100, 70 ]  \n",
    "n = len(arr)  \n",
    "x = 180\n",
    "  \n",
    "sentinelSearch(arr, n, x)"
   ]
  },
  {
   "cell_type": "markdown",
   "metadata": {},
   "source": [
    "## Best-First-Search"
   ]
  },
  {
   "cell_type": "code",
   "execution_count": null,
   "metadata": {},
   "outputs": [],
   "source": [
    "Best-First-Search(Graph g, Node start)\n",
    "    1) Create an empty PriorityQueue\n",
    "       PriorityQueue pq;\n",
    "    2) Insert \"start\" in pq.\n",
    "       pq.insert(start)\n",
    "    3) Until PriorityQueue is empty\n",
    "          u = PriorityQueue.DeleteMin\n",
    "          If u is the goal\n",
    "             Exit\n",
    "          Else\n",
    "             Foreach neighbor v of u\n",
    "                If v \"Unvisited\"\n",
    "                    Mark v \"Visited\"                    \n",
    "                    pq.insert(v)\n",
    "             Mark u \"Examined\"                    \n",
    "End procedure"
   ]
  }
 ],
 "metadata": {
  "kernelspec": {
   "display_name": "Python 3",
   "language": "python",
   "name": "python3"
  },
  "language_info": {
   "codemirror_mode": {
    "name": "ipython",
    "version": 3
   },
   "file_extension": ".py",
   "mimetype": "text/x-python",
   "name": "python",
   "nbconvert_exporter": "python",
   "pygments_lexer": "ipython3",
   "version": "3.6.4"
  }
 },
 "nbformat": 4,
 "nbformat_minor": 2
}
