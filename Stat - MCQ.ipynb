{
 "cells": [
  {
   "cell_type": "markdown",
   "metadata": {},
   "source": [
    "### 1) What is the Empirical Rule?\n",
    "\n",
    "The empirical rule, also referred to as the three-sigma rule or 68-95-99.7 rule, is a statistical rule which states that for a normal distribution, almost all observed data will fall within three standard deviations (denoted by σ) of the mean or average (denoted by µ).\n",
    "\n",
    "In particular, the empirical rule predicts that 68% of observations falls within the first standard deviation (µ ± σ), 95% within the first two standard deviations (µ ± 2σ), and 99.7% within the first three standard deviations (µ ± 3σ).\n",
    "\n",
    "### 2) What is grouped data?\n",
    "secondary data\n",
    "\n"
   ]
  },
  {
   "cell_type": "markdown",
   "metadata": {},
   "source": [
    "### 3) A parameter is a measure which is computed from\n",
    "\n",
    "Population data"
   ]
  },
  {
   "cell_type": "markdown",
   "metadata": {},
   "source": [
    "### 4) The data which have already been collected by someone are called?\n",
    "Secondary data\n",
    "\n",
    "### 5) If a distribution is abnormally tall and peaked, then is can be said that the distribution is:\n",
    "\n",
    "-Leptokurtic\n",
    "-Pyrokurtic\n",
    "-Platykurtic\n",
    "-Mesokurtic\n",
    "    \n",
    "    \n",
    "Platykurtic\n",
    "Platykurtic distributions have negative kurtosis. The tails are very thin compared to the normal distribution, or — as in the case of the uniform distribution— non-existent.\n",
    "\n",
    "Leptokurtic\n",
    "A leptokurtic distribution has excess positive kurtosis, where the kurtosis is greater than 3. The tails are fatter than the normal distribution. The following illustration1 shows a leptokurtic distribution along with a normal distribution (dotted line).\n",
    "A leptokurtic curve is “long peaked”. It is (lepto is Greek for thin or small; kurtos is Greek for bulge; thus, a curve which is “thin bulge”).\n",
    "\n",
    "Mesokurtic\n",
    "Mesokurtic distributions are technically defined as having a kurtosis of zero, although the distribution doesn’t have to be exactly zero in order for it to be classified as mesokurtic. The most common mesokurtic distributions are:\n",
    "\n",
    "The normal distribution.\n",
    "Any distribution with a Gaussian (normal) shape and zero probability at other places on the real line.\n",
    "The binomial distribution is mesokurtic for some values (i.e. for p = 1/2±√(1/12).\n",
    "\n",
    "The Leptokurtic T-Test\n",
    "The T distribution is an example of a leptokurtic distribution. It has fatter tails than the normal (you can also look at the first image above to see the fatter tails). Therefore, the critical values in a Student’s t-test will be larger than the critical values from a z-test.\n"
   ]
  },
  {
   "cell_type": "markdown",
   "metadata": {},
   "source": [
    "### 6) The mean of a distribution is 23, the median is 24, and the mode is 25.5. It is most likely that this distribution is:\n",
    "\n",
    "Positively Skewed\n",
    "Symmetrical\n",
    "Asymptotic\n",
    "Negatively Skewed\n",
    " \n",
    "For Negative Skewed Mean is likely to be less than mode and median"
   ]
  },
  {
   "cell_type": "markdown",
   "metadata": {},
   "source": [
    "### 7) Pearson mode skewness, also called Pearson’s first coefficient of skewness, is a way to figure out the skewness of a distribution.\n",
    "\n",
    "pearson mode skewness\n",
    "\n",
    "The mean, mode and median can be used to figure out if you have a positively or negatively skewed distribution.\n",
    "\n",
    "If the mean is greater than the mode, the distribution is positively skewed.\n",
    "If the mean is less than the mode, the distribution is negatively skewed.\n",
    "If the mean is greater than the median, the distribution is positively skewed.\n",
    "If the mean is less than the median, the distribution is negatively skewed."
   ]
  },
  {
   "cell_type": "code",
   "execution_count": 2,
   "metadata": {},
   "outputs": [
    {
     "ename": "SyntaxError",
     "evalue": "invalid syntax (<ipython-input-2-5a0b06ff5918>, line 1)",
     "output_type": "error",
     "traceback": [
      "\u001b[1;36m  File \u001b[1;32m\"<ipython-input-2-5a0b06ff5918>\"\u001b[1;36m, line \u001b[1;32m1\u001b[0m\n\u001b[1;33m    Sum of dots when two dice are rolled is\u001b[0m\n\u001b[1;37m         ^\u001b[0m\n\u001b[1;31mSyntaxError\u001b[0m\u001b[1;31m:\u001b[0m invalid syntax\n"
     ]
    }
   ],
   "source": [
    "Sum of dots when two dice are rolled is\n",
    "\n",
    " A discrete variable\n",
    " A continuous variable\n",
    " A constant\n",
    " A qualitative variable"
   ]
  },
  {
   "cell_type": "markdown",
   "metadata": {},
   "source": [
    "The first hand and unorganized form of data is called\n",
    "\n",
    " Secondary data\n",
    " Organized data\n",
    " Primary data <--\n",
    " None of these\n",
    "\n",
    " Primary data and _____________ data are same\n",
    "\n",
    " Grouped\n",
    " Secondary data\n",
    " Ungrouped <--\n",
    " None of these\n",
    "\n",
    "A chance variation in an observational process is\n",
    "\n",
    " Dispersion/ Variability\n",
    " Measurement error\n",
    " Random error <--\n",
    " Instrument error\n",
    "\n",
    "\n",
    "The mean of a distribution is 14 and the standard deviation is 5. What is the value of the coefficient of variation?\n",
    "CV=(standard deviation/mean)*100%\n",
    "\n",
    "Which branch of statistics deals with the techniques that are used to organize, summarize, and present the data:\n",
    "\n",
    " Advanced Statistics\n",
    " Probability Statistics\n",
    " Inferential Statistics\n",
    " Descriptive Statistics <--\n",
    " Bayesian Statistics\n",
    " \n",
    " \n",
    " You asked five of your classmates about their height. On the basis of this information, you stated that the average height of all students in your university or college is 67 inches. This is an example of:\n",
    "\n",
    " Descriptive statistics\n",
    " Inferential Statistics <--\n",
    " Parameter\n",
    " Population\n",
    " \n",
    " \n",
    "A descriptive statistic (in the count noun sense) is a summary statistic that quantitatively describes or summarizes features from a collection of information,[1] while descriptive statistics (in the mass noun sense) is the process of using and analysing those statistics\n",
    "\n",
    "inferential statistics allows you to make predictions (“inferences”) from that data. With inferential statistics, you take data from samples and make generalizations about a population.\n",
    "\n"
   ]
  },
  {
   "cell_type": "code",
   "execution_count": null,
   "metadata": {},
   "outputs": [],
   "source": [
    "Which one is the not measure of dispersion.\n",
    "\n",
    " The Range\n",
    " 50th Percentile\n",
    " Inter-Quartile Range\n",
    " Variance\n",
    "\n",
    "The algebraic sum of deviations from mean is:\n",
    "\n",
    " Maximum\n",
    " Zero\n",
    " Minimum\n",
    " Undefined"
   ]
  }
 ],
 "metadata": {
  "kernelspec": {
   "display_name": "Python 3",
   "language": "python",
   "name": "python3"
  },
  "language_info": {
   "codemirror_mode": {
    "name": "ipython",
    "version": 3
   },
   "file_extension": ".py",
   "mimetype": "text/x-python",
   "name": "python",
   "nbconvert_exporter": "python",
   "pygments_lexer": "ipython3",
   "version": "3.6.4"
  }
 },
 "nbformat": 4,
 "nbformat_minor": 2
}
