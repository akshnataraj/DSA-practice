{
 "cells": [
  {
   "cell_type": "code",
   "execution_count": 16,
   "metadata": {},
   "outputs": [],
   "source": [
    "import numpy as np"
   ]
  },
  {
   "cell_type": "code",
   "execution_count": 17,
   "metadata": {},
   "outputs": [],
   "source": [
    "#Started off with a really bad O(n^2) complexity that didn't work as well!"
   ]
  },
  {
   "cell_type": "code",
   "execution_count": 21,
   "metadata": {},
   "outputs": [],
   "source": [
    "nums = [1,2,3,4]"
   ]
  },
  {
   "cell_type": "code",
   "execution_count": 11,
   "metadata": {},
   "outputs": [
    {
     "name": "stdout",
     "output_type": "stream",
     "text": [
      "Element:  1\n",
      "Element:  2\n",
      "1 2.0\n",
      "Element:  3\n",
      "2 3.0\n",
      "2 5.0\n",
      "Element:  4\n",
      "3 4.0\n",
      "3 7.0\n",
      "3 9.0\n",
      "[0. 2. 5. 9.]\n"
     ]
    }
   ],
   "source": [
    "sums = np.zeros(len(nums))\n",
    "for i in range(len(nums)):\n",
    "    print('Element: ',nums[i])\n",
    "    for j in range(i,0,-1):\n",
    "        sums[i] = sums[i] + nums[j]\n",
    "        print(i, sums[i])\n",
    "        \n",
    "print(sums)"
   ]
  },
  {
   "cell_type": "code",
   "execution_count": 48,
   "metadata": {},
   "outputs": [
    {
     "name": "stdout",
     "output_type": "stream",
     "text": [
      "[1, 3, 6, 10]\n"
     ]
    }
   ],
   "source": [
    "nums = [1,2,3,4]\n",
    "for i in range(len(nums)):\n",
    "    if i==0:\n",
    "        nums[i] = nums[i]\n",
    "    else:\n",
    "        nums[i] = nums[i] + nums[i-1]\n",
    "print(nums)"
   ]
  },
  {
   "cell_type": "markdown",
   "metadata": {},
   "source": [
    "### Problem - Shuffle Array"
   ]
  },
  {
   "cell_type": "markdown",
   "metadata": {},
   "source": [
    "Given the array nums consisting of 2n elements in the form [x1,x2,...,xn,y1,y2,...,yn].\n",
    "\n",
    "Return the array in the form [x1,y1,x2,y2,...,xn,yn].\n",
    "\n",
    "Input: nums = [2,5,1,3,4,7], n = 3\n",
    "Output: [2,3,5,4,1,7] \n",
    "Explanation: Since x1=2, x2=5, x3=1, y1=3, y2=4, y3=7 then the answer is [2,3,5,4,1,7]."
   ]
  },
  {
   "cell_type": "code",
   "execution_count": 46,
   "metadata": {},
   "outputs": [],
   "source": [
    "nums = [2,5,1,3,4,7]\n",
    "n = 3\n",
    "a = nums[0:int(len(nums)/2)]\n",
    "b = nums[int(len(nums)/2):len(nums)]\n",
    "results = []\n",
    "for i in range(int(len(nums)/2)):\n",
    "    results.append(a[i])\n",
    "    results.append(b[i])"
   ]
  },
  {
   "cell_type": "code",
   "execution_count": 47,
   "metadata": {},
   "outputs": [
    {
     "data": {
      "text/plain": [
       "[2, 3, 5, 4, 1, 7]"
      ]
     },
     "execution_count": 47,
     "metadata": {},
     "output_type": "execute_result"
    }
   ],
   "source": [
    "results"
   ]
  },
  {
   "cell_type": "markdown",
   "metadata": {},
   "source": [
    "## Happy number"
   ]
  },
  {
   "cell_type": "code",
   "execution_count": 39,
   "metadata": {},
   "outputs": [
    {
     "name": "stdout",
     "output_type": "stream",
     "text": [
      "7\n",
      "Rem:  7  Sum:  49  Num:  0\n",
      "49\n",
      "49\n",
      "Rem:  9  Sum:  81  Num:  4\n",
      "Rem:  4  Sum:  97  Num:  0\n",
      "97\n",
      "97\n",
      "Rem:  7  Sum:  49  Num:  9\n",
      "Rem:  9  Sum:  130  Num:  0\n",
      "130\n",
      "130\n",
      "Rem:  0  Sum:  0  Num:  13\n",
      "Rem:  3  Sum:  9  Num:  1\n",
      "Rem:  1  Sum:  10  Num:  0\n",
      "10\n",
      "10\n",
      "Rem:  0  Sum:  0  Num:  1\n",
      "Rem:  1  Sum:  1  Num:  0\n",
      "1\n"
     ]
    }
   ],
   "source": [
    "import numpy as np\n",
    "def happyNumber(num):\n",
    "    print(num)\n",
    "    summ = 0\n",
    "    while num!=0:\n",
    "        rem = int(num%10)\n",
    "        summ = summ + rem**2\n",
    "        num = int(num//10)\n",
    "        print('Rem: ',rem,' Sum: ',summ, ' Num: ',num)\n",
    "    return summ\n",
    "\n",
    "a = 7\n",
    "while 1:\n",
    "    a = happyNumber(a)\n",
    "    print(a)\n",
    "    if a == 1:\n",
    "        break"
   ]
  },
  {
   "cell_type": "code",
   "execution_count": 38,
   "metadata": {},
   "outputs": [
    {
     "name": "stdout",
     "output_type": "stream",
     "text": [
      "82\n",
      "Rem:  2  Sum:  4  Num:  8\n",
      "Rem:  8  Sum:  68  Num:  0\n",
      "68\n",
      "68\n",
      "Rem:  8  Sum:  64  Num:  6\n",
      "Rem:  6  Sum:  100  Num:  0\n",
      "100\n",
      "100\n",
      "Rem:  0  Sum:  0  Num:  10\n",
      "Rem:  0  Sum:  0  Num:  1\n",
      "Rem:  1  Sum:  1  Num:  0\n",
      "1\n"
     ]
    }
   ],
   "source": [
    "while 1:\n",
    "    a = happyNumber(a)\n",
    "    print(a)\n",
    "    if a == 1:\n",
    "        break\n",
    "    "
   ]
  },
  {
   "cell_type": "code",
   "execution_count": 49,
   "metadata": {},
   "outputs": [
    {
     "name": "stdout",
     "output_type": "stream",
     "text": [
      "set()\n",
      "set()\n",
      "{19}\n",
      "{82, 19}\n",
      "{82, 19, 68}\n"
     ]
    },
    {
     "data": {
      "text/plain": [
       "True"
      ]
     },
     "execution_count": 49,
     "metadata": {},
     "output_type": "execute_result"
    }
   ],
   "source": [
    "def isHappy(n):\n",
    "    memo = set() \n",
    "    print(memo)\n",
    "    while n != 1:\n",
    "        print(memo)\n",
    "        if n in memo: \n",
    "            return False\n",
    "        memo.add(n)\n",
    "        n = sum([int(digit) ** 2 for digit in str(n)])\n",
    "    return True\n",
    "\n",
    "n = 19\n",
    "isHappy(n)"
   ]
  },
  {
   "cell_type": "code",
   "execution_count": 47,
   "metadata": {},
   "outputs": [
    {
     "data": {
      "text/plain": [
       "'19'"
      ]
     },
     "execution_count": 47,
     "metadata": {},
     "output_type": "execute_result"
    }
   ],
   "source": [
    "n = 19\n",
    "str(n)"
   ]
  },
  {
   "cell_type": "code",
   "execution_count": null,
   "metadata": {},
   "outputs": [],
   "source": []
  }
 ],
 "metadata": {
  "kernelspec": {
   "display_name": "Python 3",
   "language": "python",
   "name": "python3"
  },
  "language_info": {
   "codemirror_mode": {
    "name": "ipython",
    "version": 3
   },
   "file_extension": ".py",
   "mimetype": "text/x-python",
   "name": "python",
   "nbconvert_exporter": "python",
   "pygments_lexer": "ipython3",
   "version": "3.6.4"
  }
 },
 "nbformat": 4,
 "nbformat_minor": 2
}
