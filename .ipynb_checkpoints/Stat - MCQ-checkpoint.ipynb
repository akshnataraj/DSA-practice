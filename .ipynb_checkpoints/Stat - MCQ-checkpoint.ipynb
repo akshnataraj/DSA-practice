{
 "cells": [
  {
   "cell_type": "markdown",
   "metadata": {},
   "source": [
    "### 1) What is the Empirical Rule?\n",
    "\n",
    "The empirical rule, also referred to as the three-sigma rule or 68-95-99.7 rule, is a statistical rule which states that for a normal distribution, almost all observed data will fall within three standard deviations (denoted by σ) of the mean or average (denoted by µ).\n",
    "\n",
    "In particular, the empirical rule predicts that 68% of observations falls within the first standard deviation (µ ± σ), 95% within the first two standard deviations (µ ± 2σ), and 99.7% within the first three standard deviations (µ ± 3σ).\n",
    "\n",
    "### 2) What is grouped data?\n",
    "secondary data\n",
    "\n"
   ]
  },
  {
   "cell_type": "markdown",
   "metadata": {},
   "source": [
    "### 3) A parameter is a measure which is computed from\n",
    "\n",
    "Population data"
   ]
  },
  {
   "cell_type": "markdown",
   "metadata": {},
   "source": [
    "### 4) The data which have already been collected by someone are called?\n",
    "Secondary data\n",
    "\n",
    "### 5) If a distribution is abnormally tall and peaked, then is can be said that the distribution is:\n",
    "\n",
    "-Leptokurtic\n",
    "-Pyrokurtic\n",
    "-Platykurtic\n",
    "-Mesokurtic\n",
    "    \n",
    "    \n",
    "Platykurtic\n",
    "Platykurtic distributions have negative kurtosis. The tails are very thin compared to the normal distribution, or — as in the case of the uniform distribution— non-existent.\n",
    "\n",
    "Leptokurtic\n",
    "A leptokurtic distribution has excess positive kurtosis, where the kurtosis is greater than 3. The tails are fatter than the normal distribution. The following illustration1 shows a leptokurtic distribution along with a normal distribution (dotted line).\n",
    "A leptokurtic curve is “long peaked”. It is (lepto is Greek for thin or small; kurtos is Greek for bulge; thus, a curve which is “thin bulge”).\n",
    "\n",
    "Mesokurtic\n",
    "Mesokurtic distributions are technically defined as having a kurtosis of zero, although the distribution doesn’t have to be exactly zero in order for it to be classified as mesokurtic. The most common mesokurtic distributions are:\n",
    "\n",
    "The normal distribution.\n",
    "Any distribution with a Gaussian (normal) shape and zero probability at other places on the real line.\n",
    "The binomial distribution is mesokurtic for some values (i.e. for p = 1/2±√(1/12).\n",
    "\n",
    "The Leptokurtic T-Test\n",
    "The T distribution is an example of a leptokurtic distribution. It has fatter tails than the normal (you can also look at the first image above to see the fatter tails). Therefore, the critical values in a Student’s t-test will be larger than the critical values from a z-test.\n"
   ]
  },
  {
   "cell_type": "markdown",
   "metadata": {},
   "source": [
    "### 6) The mean of a distribution is 23, the median is 24, and the mode is 25.5. It is most likely that this distribution is:\n",
    "\n",
    "Positively Skewed\n",
    "Symmetrical\n",
    "Asymptotic\n",
    "Negatively Skewed\n",
    " \n",
    "For Negative Skewed Mean is likely to be less than mode and median"
   ]
  },
  {
   "cell_type": "code",
   "execution_count": null,
   "metadata": {},
   "outputs": [],
   "source": []
  }
 ],
 "metadata": {
  "kernelspec": {
   "display_name": "Python 3",
   "language": "python",
   "name": "python3"
  },
  "language_info": {
   "codemirror_mode": {
    "name": "ipython",
    "version": 3
   },
   "file_extension": ".py",
   "mimetype": "text/x-python",
   "name": "python",
   "nbconvert_exporter": "python",
   "pygments_lexer": "ipython3",
   "version": "3.6.4"
  }
 },
 "nbformat": 4,
 "nbformat_minor": 2
}
